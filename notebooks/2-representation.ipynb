{
  "nbformat": 4,
  "nbformat_minor": 0,
  "metadata": {
    "colab": {
      "provenance": [],
      "authorship_tag": "ABX9TyNG2gHtvNr/bEO5OZuCYXey",
      "include_colab_link": true
    },
    "kernelspec": {
      "name": "python3",
      "display_name": "Python 3"
    },
    "language_info": {
      "name": "python"
    }
  },
  "cells": [
    {
      "cell_type": "markdown",
      "metadata": {
        "id": "view-in-github",
        "colab_type": "text"
      },
      "source": [
        "<a href=\"https://colab.research.google.com/github/mahikajain20/LHL_LLM_Project/blob/main/notebooks/2-representation.ipynb\" target=\"_parent\"><img src=\"https://colab.research.google.com/assets/colab-badge.svg\" alt=\"Open In Colab\"/></a>"
      ]
    },
    {
      "cell_type": "code",
      "execution_count": 1,
      "metadata": {
        "id": "EusZhFXyjf_m"
      },
      "outputs": [],
      "source": [
        "import pandas as pd\n",
        "import numpy as np\n",
        "import matplotlib.pyplot as plt\n",
        "import seaborn as sns\n",
        "import plotly.express as px\n",
        "import transformers as tr\n",
        "import torch\n",
        "import torch.nn as nn\n",
        "import torch.optim as optim\n",
        "import torch.nn.functional as F\n",
        "from torch.utils.data import Dataset, DataLoader\n",
        "from transformers import pipeline\n",
        "from sklearn.model_selection import train_test_split\n",
        "from sklearn.feature_extraction.text import TfidfVectorizer\n",
        "from sklearn.metrics import hamming_loss, f1_score\n",
        "from transformers import BertTokenizer, BertModel\n",
        "from sklearn.decomposition import PCA\n",
        "from sklearn.manifold import TSNE\n",
        "import requests\n",
        "import getpass\n",
        "import warnings\n",
        "warnings.filterwarnings('ignore')"
      ]
    },
    {
      "cell_type": "code",
      "source": [
        "from sklearn.feature_extraction.text import CountVectorizer\n",
        "from sklearn.ensemble import RandomForestClassifier\n",
        "from sklearn.linear_model import LogisticRegression\n",
        "from sklearn.metrics import f1_score, classification_report\n",
        "import joblib"
      ],
      "metadata": {
        "id": "4EMA7Ssxjn7d"
      },
      "execution_count": 7,
      "outputs": []
    },
    {
      "cell_type": "markdown",
      "source": [
        "In this notebook, the code is performing the following tasks:\n",
        "\n",
        "-Loads the data\n",
        "\n",
        "-Vectorizes the text data\n",
        "\n",
        "-Trains and evaluates a Random Forest model\n",
        "\n",
        "-Trains and evaluates a Logistic Regression model\n",
        "\n",
        "-Provides detailed classification reports for both models\n",
        "\n",
        "-Compares the F1 scores of both models with a bar chart\n",
        "\n",
        "-Shows the most important features for the Logistic Regression model\n",
        "\n",
        "-Shows and visualizes the most important features for the Random Forest model\n",
        "\n",
        "Firstly, I will load the preprocessed data I saved in the previous notebook"
      ],
      "metadata": {
        "id": "9XW0BQ9EkHEr"
      }
    },
    {
      "cell_type": "code",
      "source": [
        "from google.colab import drive\n",
        "drive.mount('/content/drive')"
      ],
      "metadata": {
        "colab": {
          "base_uri": "https://localhost:8080/"
        },
        "id": "X9Dqu7PrmV4q",
        "outputId": "177c3b6d-ae81-4c17-b52a-8e80fe81b5ab"
      },
      "execution_count": 5,
      "outputs": [
        {
          "output_type": "stream",
          "name": "stdout",
          "text": [
            "Mounted at /content/drive\n"
          ]
        }
      ]
    },
    {
      "cell_type": "code",
      "source": [
        "#Load the data\n",
        "ds_train = pd.read_csv('/content/drive/MyDrive/Colab Notebooks/ds_train_data.csv')\n",
        "ds_test = pd.read_csv('/content/drive/MyDrive/Colab Notebooks/ds_test_data.csv')"
      ],
      "metadata": {
        "id": "jaBnKa7IjvQ9"
      },
      "execution_count": 6,
      "outputs": []
    },
    {
      "cell_type": "code",
      "source": [
        "print(\"Vectorizing text data...\")\n",
        "vectorizer = CountVectorizer()\n",
        "X_train = vectorizer.fit_transform(ds_train['text_processed'])\n",
        "y_train = ds_train['label']\n",
        "X_test = vectorizer.transform(ds_test['text_processed'])\n",
        "y_test = ds_test['label']"
      ],
      "metadata": {
        "colab": {
          "base_uri": "https://localhost:8080/"
        },
        "id": "LP8FNRuPsD7_",
        "outputId": "5b29be71-6e65-4296-bead-23998a45d4a4"
      },
      "execution_count": 13,
      "outputs": [
        {
          "output_type": "stream",
          "name": "stdout",
          "text": [
            "Vectorizing text data...\n"
          ]
        }
      ]
    },
    {
      "cell_type": "markdown",
      "source": [
        "**The provided code uses CountVectorizer to implement the Bag-of-Words model for text vectorization. It transforms the text data into numerical representations based on word counts, making it suitable for input into machine learning models. **\n",
        "\n",
        "Count-Based Representation: The CountVectorizer converts text documents into a matrix of token counts, which is the essence of the Bag-of-Words model. Each document is represented as a vector of word counts, ignoring the order of words but capturing their frequency.\n",
        "\n",
        "Vocabulary Building: The fit method of CountVectorizer builds a vocabulary from the text data, mapping each word to an index.\n"
      ],
      "metadata": {
        "id": "xy0jFPiPlPW7"
      }
    },
    {
      "cell_type": "code",
      "source": [
        "# Random Forest Model\n",
        "print(\"Training Random Forest model...\")\n",
        "rf_model = RandomForestClassifier()\n",
        "rf_model.fit(X_train, y_train)"
      ],
      "metadata": {
        "colab": {
          "base_uri": "https://localhost:8080/",
          "height": 93
        },
        "id": "HyvFsrk5sGBS",
        "outputId": "68a7396e-5d83-4df4-f6a2-a6434010c66b"
      },
      "execution_count": 14,
      "outputs": [
        {
          "output_type": "stream",
          "name": "stdout",
          "text": [
            "Training Random Forest model...\n"
          ]
        },
        {
          "output_type": "execute_result",
          "data": {
            "text/plain": [
              "RandomForestClassifier()"
            ],
            "text/html": [
              "<style>#sk-container-id-2 {color: black;background-color: white;}#sk-container-id-2 pre{padding: 0;}#sk-container-id-2 div.sk-toggleable {background-color: white;}#sk-container-id-2 label.sk-toggleable__label {cursor: pointer;display: block;width: 100%;margin-bottom: 0;padding: 0.3em;box-sizing: border-box;text-align: center;}#sk-container-id-2 label.sk-toggleable__label-arrow:before {content: \"▸\";float: left;margin-right: 0.25em;color: #696969;}#sk-container-id-2 label.sk-toggleable__label-arrow:hover:before {color: black;}#sk-container-id-2 div.sk-estimator:hover label.sk-toggleable__label-arrow:before {color: black;}#sk-container-id-2 div.sk-toggleable__content {max-height: 0;max-width: 0;overflow: hidden;text-align: left;background-color: #f0f8ff;}#sk-container-id-2 div.sk-toggleable__content pre {margin: 0.2em;color: black;border-radius: 0.25em;background-color: #f0f8ff;}#sk-container-id-2 input.sk-toggleable__control:checked~div.sk-toggleable__content {max-height: 200px;max-width: 100%;overflow: auto;}#sk-container-id-2 input.sk-toggleable__control:checked~label.sk-toggleable__label-arrow:before {content: \"▾\";}#sk-container-id-2 div.sk-estimator input.sk-toggleable__control:checked~label.sk-toggleable__label {background-color: #d4ebff;}#sk-container-id-2 div.sk-label input.sk-toggleable__control:checked~label.sk-toggleable__label {background-color: #d4ebff;}#sk-container-id-2 input.sk-hidden--visually {border: 0;clip: rect(1px 1px 1px 1px);clip: rect(1px, 1px, 1px, 1px);height: 1px;margin: -1px;overflow: hidden;padding: 0;position: absolute;width: 1px;}#sk-container-id-2 div.sk-estimator {font-family: monospace;background-color: #f0f8ff;border: 1px dotted black;border-radius: 0.25em;box-sizing: border-box;margin-bottom: 0.5em;}#sk-container-id-2 div.sk-estimator:hover {background-color: #d4ebff;}#sk-container-id-2 div.sk-parallel-item::after {content: \"\";width: 100%;border-bottom: 1px solid gray;flex-grow: 1;}#sk-container-id-2 div.sk-label:hover label.sk-toggleable__label {background-color: #d4ebff;}#sk-container-id-2 div.sk-serial::before {content: \"\";position: absolute;border-left: 1px solid gray;box-sizing: border-box;top: 0;bottom: 0;left: 50%;z-index: 0;}#sk-container-id-2 div.sk-serial {display: flex;flex-direction: column;align-items: center;background-color: white;padding-right: 0.2em;padding-left: 0.2em;position: relative;}#sk-container-id-2 div.sk-item {position: relative;z-index: 1;}#sk-container-id-2 div.sk-parallel {display: flex;align-items: stretch;justify-content: center;background-color: white;position: relative;}#sk-container-id-2 div.sk-item::before, #sk-container-id-2 div.sk-parallel-item::before {content: \"\";position: absolute;border-left: 1px solid gray;box-sizing: border-box;top: 0;bottom: 0;left: 50%;z-index: -1;}#sk-container-id-2 div.sk-parallel-item {display: flex;flex-direction: column;z-index: 1;position: relative;background-color: white;}#sk-container-id-2 div.sk-parallel-item:first-child::after {align-self: flex-end;width: 50%;}#sk-container-id-2 div.sk-parallel-item:last-child::after {align-self: flex-start;width: 50%;}#sk-container-id-2 div.sk-parallel-item:only-child::after {width: 0;}#sk-container-id-2 div.sk-dashed-wrapped {border: 1px dashed gray;margin: 0 0.4em 0.5em 0.4em;box-sizing: border-box;padding-bottom: 0.4em;background-color: white;}#sk-container-id-2 div.sk-label label {font-family: monospace;font-weight: bold;display: inline-block;line-height: 1.2em;}#sk-container-id-2 div.sk-label-container {text-align: center;}#sk-container-id-2 div.sk-container {/* jupyter's `normalize.less` sets `[hidden] { display: none; }` but bootstrap.min.css set `[hidden] { display: none !important; }` so we also need the `!important` here to be able to override the default hidden behavior on the sphinx rendered scikit-learn.org. See: https://github.com/scikit-learn/scikit-learn/issues/21755 */display: inline-block !important;position: relative;}#sk-container-id-2 div.sk-text-repr-fallback {display: none;}</style><div id=\"sk-container-id-2\" class=\"sk-top-container\"><div class=\"sk-text-repr-fallback\"><pre>RandomForestClassifier()</pre><b>In a Jupyter environment, please rerun this cell to show the HTML representation or trust the notebook. <br />On GitHub, the HTML representation is unable to render, please try loading this page with nbviewer.org.</b></div><div class=\"sk-container\" hidden><div class=\"sk-item\"><div class=\"sk-estimator sk-toggleable\"><input class=\"sk-toggleable__control sk-hidden--visually\" id=\"sk-estimator-id-2\" type=\"checkbox\" checked><label for=\"sk-estimator-id-2\" class=\"sk-toggleable__label sk-toggleable__label-arrow\">RandomForestClassifier</label><div class=\"sk-toggleable__content\"><pre>RandomForestClassifier()</pre></div></div></div></div></div>"
            ]
          },
          "metadata": {},
          "execution_count": 14
        }
      ]
    },
    {
      "cell_type": "code",
      "source": [
        "# Evaluating Random Forest Model\n",
        "print(\"Evaluating Random Forest model...\")\n",
        "y_pred_rf = rf_model.predict(X_test)\n",
        "f1_rf = f1_score(y_test, y_pred_rf)\n",
        "print(\"Random Forest F1 Score:\", f1_rf)"
      ],
      "metadata": {
        "colab": {
          "base_uri": "https://localhost:8080/"
        },
        "id": "B0rPLAAXsMAp",
        "outputId": "3dfcd823-0dc4-4094-b314-49957702c1a7"
      },
      "execution_count": 15,
      "outputs": [
        {
          "output_type": "stream",
          "name": "stdout",
          "text": [
            "Evaluating Random Forest model...\n",
            "Random Forest F1 Score: 0.8518592803562116\n"
          ]
        }
      ]
    },
    {
      "cell_type": "code",
      "source": [
        "# Create the model\n",
        "log_reg_model = LogisticRegression(max_iter=1000)  # Increase max_iter if it doesn't converge\n",
        "\n",
        "# Train the model\n",
        "log_reg_model.fit(X_train, y_train)"
      ],
      "metadata": {
        "colab": {
          "base_uri": "https://localhost:8080/",
          "height": 75
        },
        "id": "RrwL3rbnmicB",
        "outputId": "87c16f3a-79d5-4080-f4a9-60fdb5831231"
      },
      "execution_count": 16,
      "outputs": [
        {
          "output_type": "execute_result",
          "data": {
            "text/plain": [
              "LogisticRegression(max_iter=1000)"
            ],
            "text/html": [
              "<style>#sk-container-id-3 {color: black;background-color: white;}#sk-container-id-3 pre{padding: 0;}#sk-container-id-3 div.sk-toggleable {background-color: white;}#sk-container-id-3 label.sk-toggleable__label {cursor: pointer;display: block;width: 100%;margin-bottom: 0;padding: 0.3em;box-sizing: border-box;text-align: center;}#sk-container-id-3 label.sk-toggleable__label-arrow:before {content: \"▸\";float: left;margin-right: 0.25em;color: #696969;}#sk-container-id-3 label.sk-toggleable__label-arrow:hover:before {color: black;}#sk-container-id-3 div.sk-estimator:hover label.sk-toggleable__label-arrow:before {color: black;}#sk-container-id-3 div.sk-toggleable__content {max-height: 0;max-width: 0;overflow: hidden;text-align: left;background-color: #f0f8ff;}#sk-container-id-3 div.sk-toggleable__content pre {margin: 0.2em;color: black;border-radius: 0.25em;background-color: #f0f8ff;}#sk-container-id-3 input.sk-toggleable__control:checked~div.sk-toggleable__content {max-height: 200px;max-width: 100%;overflow: auto;}#sk-container-id-3 input.sk-toggleable__control:checked~label.sk-toggleable__label-arrow:before {content: \"▾\";}#sk-container-id-3 div.sk-estimator input.sk-toggleable__control:checked~label.sk-toggleable__label {background-color: #d4ebff;}#sk-container-id-3 div.sk-label input.sk-toggleable__control:checked~label.sk-toggleable__label {background-color: #d4ebff;}#sk-container-id-3 input.sk-hidden--visually {border: 0;clip: rect(1px 1px 1px 1px);clip: rect(1px, 1px, 1px, 1px);height: 1px;margin: -1px;overflow: hidden;padding: 0;position: absolute;width: 1px;}#sk-container-id-3 div.sk-estimator {font-family: monospace;background-color: #f0f8ff;border: 1px dotted black;border-radius: 0.25em;box-sizing: border-box;margin-bottom: 0.5em;}#sk-container-id-3 div.sk-estimator:hover {background-color: #d4ebff;}#sk-container-id-3 div.sk-parallel-item::after {content: \"\";width: 100%;border-bottom: 1px solid gray;flex-grow: 1;}#sk-container-id-3 div.sk-label:hover label.sk-toggleable__label {background-color: #d4ebff;}#sk-container-id-3 div.sk-serial::before {content: \"\";position: absolute;border-left: 1px solid gray;box-sizing: border-box;top: 0;bottom: 0;left: 50%;z-index: 0;}#sk-container-id-3 div.sk-serial {display: flex;flex-direction: column;align-items: center;background-color: white;padding-right: 0.2em;padding-left: 0.2em;position: relative;}#sk-container-id-3 div.sk-item {position: relative;z-index: 1;}#sk-container-id-3 div.sk-parallel {display: flex;align-items: stretch;justify-content: center;background-color: white;position: relative;}#sk-container-id-3 div.sk-item::before, #sk-container-id-3 div.sk-parallel-item::before {content: \"\";position: absolute;border-left: 1px solid gray;box-sizing: border-box;top: 0;bottom: 0;left: 50%;z-index: -1;}#sk-container-id-3 div.sk-parallel-item {display: flex;flex-direction: column;z-index: 1;position: relative;background-color: white;}#sk-container-id-3 div.sk-parallel-item:first-child::after {align-self: flex-end;width: 50%;}#sk-container-id-3 div.sk-parallel-item:last-child::after {align-self: flex-start;width: 50%;}#sk-container-id-3 div.sk-parallel-item:only-child::after {width: 0;}#sk-container-id-3 div.sk-dashed-wrapped {border: 1px dashed gray;margin: 0 0.4em 0.5em 0.4em;box-sizing: border-box;padding-bottom: 0.4em;background-color: white;}#sk-container-id-3 div.sk-label label {font-family: monospace;font-weight: bold;display: inline-block;line-height: 1.2em;}#sk-container-id-3 div.sk-label-container {text-align: center;}#sk-container-id-3 div.sk-container {/* jupyter's `normalize.less` sets `[hidden] { display: none; }` but bootstrap.min.css set `[hidden] { display: none !important; }` so we also need the `!important` here to be able to override the default hidden behavior on the sphinx rendered scikit-learn.org. See: https://github.com/scikit-learn/scikit-learn/issues/21755 */display: inline-block !important;position: relative;}#sk-container-id-3 div.sk-text-repr-fallback {display: none;}</style><div id=\"sk-container-id-3\" class=\"sk-top-container\"><div class=\"sk-text-repr-fallback\"><pre>LogisticRegression(max_iter=1000)</pre><b>In a Jupyter environment, please rerun this cell to show the HTML representation or trust the notebook. <br />On GitHub, the HTML representation is unable to render, please try loading this page with nbviewer.org.</b></div><div class=\"sk-container\" hidden><div class=\"sk-item\"><div class=\"sk-estimator sk-toggleable\"><input class=\"sk-toggleable__control sk-hidden--visually\" id=\"sk-estimator-id-3\" type=\"checkbox\" checked><label for=\"sk-estimator-id-3\" class=\"sk-toggleable__label sk-toggleable__label-arrow\">LogisticRegression</label><div class=\"sk-toggleable__content\"><pre>LogisticRegression(max_iter=1000)</pre></div></div></div></div></div>"
            ]
          },
          "metadata": {},
          "execution_count": 16
        }
      ]
    },
    {
      "cell_type": "code",
      "source": [
        "# Predict using test data\n",
        "y_pred_log_reg = log_reg_model.predict(X_test)\n",
        "\n",
        "# Calculate F1 score\n",
        "f1_log_reg = f1_score(y_test, y_pred_log_reg)\n",
        "\n",
        "print(\"Logistic Regression F1 Score:\", f1_log_reg)\n"
      ],
      "metadata": {
        "colab": {
          "base_uri": "https://localhost:8080/"
        },
        "id": "ZtZusGLhpjNa",
        "outputId": "c3d7366d-6ba5-4a08-8fa3-835620fbf508"
      },
      "execution_count": 17,
      "outputs": [
        {
          "output_type": "stream",
          "name": "stdout",
          "text": [
            "Logistic Regression F1 Score: 0.8623890234059726\n"
          ]
        }
      ]
    },
    {
      "cell_type": "code",
      "source": [
        "# Detailed Classification Report for both models\n",
        "print(\"\\nRandom Forest Classification Report:\")\n",
        "print(classification_report(y_test, y_pred_rf))\n",
        "\n",
        "print(\"\\nLogistic Regression Classification Report:\")\n",
        "print(classification_report(y_test, y_pred_log_reg))"
      ],
      "metadata": {
        "colab": {
          "base_uri": "https://localhost:8080/"
        },
        "id": "GUvnvYckplqJ",
        "outputId": "68ba1630-e830-4e19-8dd3-d26a34ba3ab1"
      },
      "execution_count": 18,
      "outputs": [
        {
          "output_type": "stream",
          "name": "stdout",
          "text": [
            "\n",
            "Random Forest Classification Report:\n",
            "              precision    recall  f1-score   support\n",
            "\n",
            "           0       0.85      0.86      0.85     12500\n",
            "           1       0.85      0.85      0.85     12500\n",
            "\n",
            "    accuracy                           0.85     25000\n",
            "   macro avg       0.85      0.85      0.85     25000\n",
            "weighted avg       0.85      0.85      0.85     25000\n",
            "\n",
            "\n",
            "Logistic Regression Classification Report:\n",
            "              precision    recall  f1-score   support\n",
            "\n",
            "           0       0.86      0.87      0.86     12500\n",
            "           1       0.87      0.85      0.86     12500\n",
            "\n",
            "    accuracy                           0.86     25000\n",
            "   macro avg       0.86      0.86      0.86     25000\n",
            "weighted avg       0.86      0.86      0.86     25000\n",
            "\n"
          ]
        }
      ]
    },
    {
      "cell_type": "code",
      "source": [
        "# Compare F1 Scores\n",
        "models = ['Random Forest', 'Logistic Regression']\n",
        "f1_scores = [f1_rf, f1_log_reg]\n",
        "\n",
        "plt.figure(figsize=(10, 6))\n",
        "plt.bar(models, f1_scores)\n",
        "plt.title('F1 Scores Comparison')\n",
        "plt.ylabel('F1 Score')\n",
        "plt.ylim(0, 1)\n",
        "for i, v in enumerate(f1_scores):\n",
        "    plt.text(i, v, f'{v:.4f}', ha='center', va='bottom')\n",
        "plt.show()"
      ],
      "metadata": {
        "colab": {
          "base_uri": "https://localhost:8080/",
          "height": 545
        },
        "id": "9_Mj8apIskNU",
        "outputId": "15f1f21f-da51-4cec-e9dc-9aa754ac6b92"
      },
      "execution_count": 19,
      "outputs": [
        {
          "output_type": "display_data",
          "data": {
            "text/plain": [
              "<Figure size 1000x600 with 1 Axes>"
            ],
            "image/png": "[encoded data removed]"
          },
          "metadata": {}
        }
      ]
    },
    {
      "cell_type": "markdown",
      "source": [
        "Looking at the classification reports for the two datasets, it does not seem that there is a large difference between the performances of the two models. The logistic regression does perform slightly better (86% vs 85% accuracy) than the random forest model, potentially as logistic regression is well suited for binary classifications and this dataset has two labels.\n",
        "\n",
        "Balance:\n",
        "\n",
        "Both models show balanced performance across both classes, which is good. This means they're not biased towards one class.\n",
        "\n",
        "\n",
        "Precision:\n",
        "\n",
        "Precision is the ratio of correctly predicted positive observations to the total predicted positive observations.\n",
        "For Logistic Regression, it's slightly better at precisely identifying positive cases (class 1) with 0.87 compared to negative cases (class 0) with 0.86.\n",
        "\n",
        "\n",
        "Recall:\n",
        "\n",
        "Recall is the ratio of correctly predicted positive observations to all actual positive observations.\n",
        "The Logistic Regression model is slightly better at recalling negative cases (0.87 for class 0) compared to positive cases (0.85 for class 1).\n",
        "\n",
        "\n",
        "F1-Score:\n",
        "\n",
        "F1-score is the harmonic mean of precision and recall, providing a single score that balances both metrics.\n",
        "Both models have consistent F1-scores across classes, indicating balanced performance."
      ],
      "metadata": {
        "id": "fPNGlXGNuiVu"
      }
    },
    {
      "cell_type": "code",
      "source": [
        "feature_names = vectorizer.get_feature_names_out()\n",
        "coefficients = log_reg_model.coef_[0]\n",
        "\n",
        "# Get the top 10 most positive and negative coefficients\n",
        "top_positive = sorted(zip(coefficients, feature_names))[-10:]\n",
        "top_negative = sorted(zip(coefficients, feature_names))[:10]\n",
        "\n",
        "print(\"Top positive features:\")\n",
        "for coef, feat in top_positive:\n",
        "    print(f\"{feat}: {coef}\")\n",
        "\n",
        "print(\"\\nTop negative features:\")\n",
        "for coef, feat in top_negative:\n",
        "    print(f\"{feat}: {coef}\")"
      ],
      "metadata": {
        "colab": {
          "base_uri": "https://localhost:8080/"
        },
        "id": "Lty544QXpoDx",
        "outputId": "da9bec34-9276-4e28-bc21-65106889581d"
      },
      "execution_count": 20,
      "outputs": [
        {
          "output_type": "stream",
          "name": "stdout",
          "text": [
            "Top positive features:\n",
            "driven: 1.1949844961985845\n",
            "erotic: 1.2117818973477446\n",
            "perfect: 1.2527441105565291\n",
            "excellent: 1.263116855710406\n",
            "superb: 1.2897609724594805\n",
            "flawless: 1.300982033896656\n",
            "carrey: 1.318005893126936\n",
            "funniest: 1.390808140253725\n",
            "wonderfully: 1.4029430075210452\n",
            "refreshing: 1.5998619810721348\n",
            "\n",
            "Top negative features:\n",
            "disappointment: -2.2141544659525376\n",
            "waste: -2.188679287162989\n",
            "worst: -2.173644929712348\n",
            "poorly: -1.8062471779330012\n",
            "mstk: -1.662695369733789\n",
            "lacks: -1.6450413755696605\n",
            "awful: -1.6106134909863425\n",
            "forgettable: -1.517372362700673\n",
            "disappointing: -1.484484943842235\n",
            "weak: -1.4013170527279573\n"
          ]
        }
      ]
    },
    {
      "cell_type": "code",
      "source": [
        "# Feature Importance for Random Forest\n",
        "importances = rf_model.feature_importances_\n",
        "indices = np.argsort(importances)[-10:]  # Top 10 features\n",
        "\n",
        "print(\"\\nTop 10 important features (Random Forest):\")\n",
        "for f in range(10):\n",
        "    print(\"%d. %s (%f)\" % (f + 1, feature_names[indices[f]], importances[indices[f]]))\n",
        "\n",
        "# Visualize top features for Random Forest\n",
        "plt.figure(figsize=(10, 6))\n",
        "plt.title(\"Top 10 Feature Importances (Random Forest)\")\n",
        "plt.bar(range(10), importances[indices])\n",
        "plt.xticks(range(10), [feature_names[i] for i in indices], rotation=45, ha='right')\n",
        "plt.tight_layout()\n",
        "plt.show()"
      ],
      "metadata": {
        "colab": {
          "base_uri": "https://localhost:8080/",
          "height": 812
        },
        "id": "Lx4O7RT2soj8",
        "outputId": "a332acc5-f5ef-4659-80c5-75a903aea773"
      },
      "execution_count": 21,
      "outputs": [
        {
          "output_type": "stream",
          "name": "stdout",
          "text": [
            "\n",
            "Top 10 important features (Random Forest):\n",
            "1. wonderful (0.003240)\n",
            "2. boring (0.003657)\n",
            "3. terrible (0.003784)\n",
            "4. best (0.003804)\n",
            "5. excellent (0.004370)\n",
            "6. waste (0.004459)\n",
            "7. awful (0.005227)\n",
            "8. great (0.005568)\n",
            "9. worst (0.008775)\n",
            "10. bad (0.013480)\n"
          ]
        },
        {
          "output_type": "display_data",
          "data": {
            "text/plain": [
              "<Figure size 1000x600 with 1 Axes>"
            ],
            "image/png": "[encoded data removed]"
          },
          "metadata": {}
        }
      ]
    },
    {
      "cell_type": "markdown",
      "source": [
        "**Interpretation:**\n",
        "\n",
        "Consistency: Both models identify similar important features. Words like \"excellent,\" \"waste,\" \"awful,\" and \"worst\" appear in both lists, indicating their strong predictive power.\n",
        "\n",
        "Sentiment Alignment: The features align well with intuitive sentiment. Positive words (e.g., \"excellent,\" \"wonderful\") are associated with positive reviews, while negative words (e.g., \"awful,\" \"waste\") are associated with negative reviews.\n",
        "\n",
        "Logistic Regression Nuance: The logistic regression model captures more nuanced features. For example, \"carrey\" (likely referring to Jim Carrey) is a strong positive indicator, suggesting movies featuring this actor are often positively reviewed in this dataset.\n",
        "\n",
        "Random Forest Balance: The Random Forest model seems to balance positive and negative indicators more evenly in its top features, including both \"great\" and \"terrible\" with similar importance.\n",
        "\n",
        "Strength of Negativity: In both models, negative words seem to have a slightly stronger impact. For example, \"disappointment\" has the highest absolute coefficient in logistic regression, and \"bad\" has the highest importance in random forest.\n",
        "\n",
        "Specific vs. General: Logistic regression picked up on more specific descriptors (e.g., \"flawless,\" \"erotic\"), while random forest focused more on general sentiment words.\n",
        "\n",
        "Misspellings: The logistic regression model picked up \"mstk,\" which might be a common misspelling. This highlights the importance of text preprocessing in NLP tasks."
      ],
      "metadata": {
        "id": "IPTtMUqqmkph"
      }
    },
    {
      "cell_type": "code",
      "source": [
        "#saving the model\n",
        "joblib.dump(log_reg_model, 'log_reg_model.joblib')\n",
        "joblib.dump(rf_model, 'rf_model.joblib')"
      ],
      "metadata": {
        "id": "TMuEuUxDmnxN"
      },
      "execution_count": null,
      "outputs": []
    },
    {
      "cell_type": "markdown",
      "source": [
        "This analysis is valuble for\n",
        "\n",
        "Identifying potential biases (e.g., if certain actor names strongly influence predictions)\n",
        "\n",
        "Guiding feature engineering or text preprocessing steps for future iterations\n",
        "\n",
        "Providing interpretability for stakeholders about how the sentiment analysis works!"
      ],
      "metadata": {
        "id": "jisPKWNGm1_n"
      }
    }
  ]
}